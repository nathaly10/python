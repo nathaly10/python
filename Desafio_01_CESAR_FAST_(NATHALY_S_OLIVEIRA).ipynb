{
  "nbformat": 4,
  "nbformat_minor": 0,
  "metadata": {
    "colab": {
      "provenance": [],
      "authorship_tag": "ABX9TyNpWLEcoXnnZXV55Ty/ZTzz",
      "include_colab_link": true
    },
    "kernelspec": {
      "name": "python3",
      "display_name": "Python 3"
    },
    "language_info": {
      "name": "python"
    }
  },
  "cells": [
    {
      "cell_type": "markdown",
      "metadata": {
        "id": "view-in-github",
        "colab_type": "text"
      },
      "source": [
        "<a href=\"https://colab.research.google.com/github/nathaly10/python/blob/main/Desafio_01_CESAR_FAST_(NATHALY_S_OLIVEIRA).ipynb\" target=\"_parent\"><img src=\"https://colab.research.google.com/assets/colab-badge.svg\" alt=\"Open In Colab\"/></a>"
      ]
    },
    {
      "cell_type": "markdown",
      "source": [
        "# SISTEMA DE GERENCIAMENTO DE REGISTROS DE ESTUDANTES"
      ],
      "metadata": {
        "id": "w2n8j-UVp7R8"
      }
    },
    {
      "cell_type": "markdown",
      "source": [
        "Neste desafio, você vai criar um sistema simples de gerenciamento de registros de alunos. Este projeto envolverá a criação de um aplicativo de linha de comando que permite aos usuários realizar diversas operações relacionadas aos registros dos alunos."
      ],
      "metadata": {
        "id": "H_bEwBn3qd6h"
      }
    },
    {
      "cell_type": "code",
      "source": [
        "#SISTEMA DE GERENCIAMENTO DE REGISTROS DE ESTUDANTES\n",
        "\n",
        "#MENU INTERATIVO#\n",
        "\n",
        "#1.Adicionar Registro do Estudante\n",
        "#2.Exibir Registros de  Estudantes\n",
        "#3.Procurar por um Estudante\n",
        "#4.Calcular Média das Notas\n",
        "#5.Salvar Registros em Arquivo\n",
        "#6.Carregar Registros de Arquivos\n",
        "#7.Sair#\n"
      ],
      "metadata": {
        "id": "CU0S_9U5qFkU"
      },
      "execution_count": null,
      "outputs": []
    },
    {
      "cell_type": "code",
      "source": [
        "def adicionar_estudante(estudantes):\n",
        "    nome = input(\"Nome do estudante: \")\n",
        "    id = input(\"ID do estudante: \")\n",
        "    notas = input(\"Notas do estudante (separadas por espaço): \").split()\n",
        "    notas = [float(nota) for nota in notas]\n",
        "    estudantes.append({\"nome\": nome, \"id\": id, \"notas\": notas})\n",
        "\n",
        "def exibir_registros(estudantes):\n",
        "    for estudante in estudantes:\n",
        "        notas = ' '.join(map(str, estudante['notas']))\n",
        "        print(f\"Nome: {estudante['nome']}, ID: {estudante['id']}, Notas: {notas}\")\n",
        "\n",
        "def procurar_por_id(estudantes, id):\n",
        "    for estudante in estudantes:\n",
        "        if estudante['id'] == id:\n",
        "            return estudante\n",
        "    return None\n",
        "\n",
        "def calcular_media(estudantes):\n",
        "    todas_as_notas = [nota for estudante in estudantes for nota in estudante['notas']]\n",
        "    return sum(todas_as_notas) / len(todas_as_notas)\n",
        "\n",
        "def salvar_em_arquivo(estudantes, nome_arquivo):\n",
        "    with open(nome_arquivo, 'w') as arquivo:\n",
        "        for estudante in estudantes:\n",
        "            linha = f\"{estudante['nome']} {estudante['id']} {' '.join(map(str, estudante['notas']))}\\n\"\n",
        "            arquivo.write(linha)\n",
        "\n",
        "def carregar_de_arquivo(nome_arquivo):\n",
        "    estudantes = []\n",
        "    with open(nome_arquivo, 'r') as arquivo:\n",
        "        for linha in arquivo:\n",
        "            partes = linha.strip().split()\n",
        "            nome, id, notas = partes[0], partes[1], list(map(float, partes[2:]))\n",
        "            estudantes.append({\"nome\": nome, \"id\": id, \"notas\": notas})\n",
        "    return estudantes\n",
        "\n",
        "# Montar o Google Drive\n",
        "from google.colab import drive\n",
        "drive.mount('/content/drive')\n",
        "\n",
        "# Definir o caminho para o arquivo no seu Google Drive\n",
        "caminho_arquivo_drive = '/content/drive/My Drive/registros_estudantes.txt'\n",
        "\n",
        "# Exemplo de uso\n",
        "estudantes = []\n",
        "\n",
        "while True:\n",
        "    print(\"\\n1. Adicionar estudante\\n2. Exibir registros\\n3. Procurar por ID\\n4. Calcular média de notas\")\n",
        "    print(\"5. Salvar em arquivo\\n6. Carregar de arquivo\\n0. Sair\")\n",
        "    escolha = input(\"Escolha a opção: \")\n",
        "\n",
        "    if escolha == '1':\n",
        "        adicionar_estudante(estudantes)\n",
        "    elif escolha == '2':\n",
        "        exibir_registros(estudantes)\n",
        "    elif escolha == '3':\n",
        "        id = input(\"Digite o ID do estudante: \")\n",
        "        estudante_encontrado = procurar_por_id(estudantes, id)\n",
        "        if estudante_encontrado:\n",
        "            print(f\"Nome: {estudante_encontrado['nome']}, ID: {estudante_encontrado['id']}, Notas: {' '.join(map(str, estudante_encontrado['notas']))}\")\n",
        "        else:\n",
        "            print(f\"Nenhum estudante encontrado com o ID {id}.\")\n",
        "    elif escolha == '4':\n",
        "        media = calcular_media(estudantes)\n",
        "        print(f\"A média de notas é: {media:.2f}\")\n",
        "    elif escolha == '5':\n",
        "        salvar_em_arquivo(estudantes, caminho_arquivo_drive)\n",
        "    elif escolha == '6':\n",
        "        estudantes = carregar_de_arquivo(caminho_arquivo_drive)\n",
        "    elif escolha == '0':\n",
        "        break\n",
        "    else:\n",
        "        print(\"Opção inválida. Tente novamente.\")\n",
        "\n",
        "\n"
      ],
      "metadata": {
        "colab": {
          "base_uri": "https://localhost:8080/",
          "height": 928
        },
        "id": "F722OdXbr745",
        "outputId": "b6aef3ab-6c21-4441-fbc3-1a828075b822"
      },
      "execution_count": null,
      "outputs": [
        {
          "output_type": "stream",
          "name": "stdout",
          "text": [
            "Drive already mounted at /content/drive; to attempt to forcibly remount, call drive.mount(\"/content/drive\", force_remount=True).\n",
            "\n",
            "1. Adicionar estudante\n",
            "2. Exibir registros\n",
            "3. Procurar por ID\n",
            "4. Calcular média de notas\n",
            "5. Salvar em arquivo\n",
            "6. Carregar de arquivo\n",
            "0. Sair\n",
            "Escolha a opção: 1\n",
            "Nome do estudante: Ma\n",
            "ID do estudante: 5\n",
            "Notas do estudante (separadas por espaço): 1 2 3\n",
            "\n",
            "1. Adicionar estudante\n",
            "2. Exibir registros\n",
            "3. Procurar por ID\n",
            "4. Calcular média de notas\n",
            "5. Salvar em arquivo\n",
            "6. Carregar de arquivo\n",
            "0. Sair\n",
            "Escolha a opção: 4\n",
            "A média de notas é: 2.00\n",
            "\n",
            "1. Adicionar estudante\n",
            "2. Exibir registros\n",
            "3. Procurar por ID\n",
            "4. Calcular média de notas\n",
            "5. Salvar em arquivo\n",
            "6. Carregar de arquivo\n",
            "0. Sair\n"
          ]
        },
        {
          "output_type": "error",
          "ename": "KeyboardInterrupt",
          "evalue": "ignored",
          "traceback": [
            "\u001b[0;31m---------------------------------------------------------------------------\u001b[0m",
            "\u001b[0;31mKeyboardInterrupt\u001b[0m                         Traceback (most recent call last)",
            "\u001b[0;32m<ipython-input-4-b2ee61f3cf84>\u001b[0m in \u001b[0;36m<cell line: 48>\u001b[0;34m()\u001b[0m\n\u001b[1;32m     49\u001b[0m     \u001b[0mprint\u001b[0m\u001b[0;34m(\u001b[0m\u001b[0;34m\"\\n1. Adicionar estudante\\n2. Exibir registros\\n3. Procurar por ID\\n4. Calcular média de notas\"\u001b[0m\u001b[0;34m)\u001b[0m\u001b[0;34m\u001b[0m\u001b[0;34m\u001b[0m\u001b[0m\n\u001b[1;32m     50\u001b[0m     \u001b[0mprint\u001b[0m\u001b[0;34m(\u001b[0m\u001b[0;34m\"5. Salvar em arquivo\\n6. Carregar de arquivo\\n0. Sair\"\u001b[0m\u001b[0;34m)\u001b[0m\u001b[0;34m\u001b[0m\u001b[0;34m\u001b[0m\u001b[0m\n\u001b[0;32m---> 51\u001b[0;31m     \u001b[0mescolha\u001b[0m \u001b[0;34m=\u001b[0m \u001b[0minput\u001b[0m\u001b[0;34m(\u001b[0m\u001b[0;34m\"Escolha a opção: \"\u001b[0m\u001b[0;34m)\u001b[0m\u001b[0;34m\u001b[0m\u001b[0;34m\u001b[0m\u001b[0m\n\u001b[0m\u001b[1;32m     52\u001b[0m \u001b[0;34m\u001b[0m\u001b[0m\n\u001b[1;32m     53\u001b[0m     \u001b[0;32mif\u001b[0m \u001b[0mescolha\u001b[0m \u001b[0;34m==\u001b[0m \u001b[0;34m'1'\u001b[0m\u001b[0;34m:\u001b[0m\u001b[0;34m\u001b[0m\u001b[0;34m\u001b[0m\u001b[0m\n",
            "\u001b[0;32m/usr/local/lib/python3.10/dist-packages/ipykernel/kernelbase.py\u001b[0m in \u001b[0;36mraw_input\u001b[0;34m(self, prompt)\u001b[0m\n\u001b[1;32m    849\u001b[0m                 \u001b[0;34m\"raw_input was called, but this frontend does not support input requests.\"\u001b[0m\u001b[0;34m\u001b[0m\u001b[0;34m\u001b[0m\u001b[0m\n\u001b[1;32m    850\u001b[0m             )\n\u001b[0;32m--> 851\u001b[0;31m         return self._input_request(str(prompt),\n\u001b[0m\u001b[1;32m    852\u001b[0m             \u001b[0mself\u001b[0m\u001b[0;34m.\u001b[0m\u001b[0m_parent_ident\u001b[0m\u001b[0;34m,\u001b[0m\u001b[0;34m\u001b[0m\u001b[0;34m\u001b[0m\u001b[0m\n\u001b[1;32m    853\u001b[0m             \u001b[0mself\u001b[0m\u001b[0;34m.\u001b[0m\u001b[0m_parent_header\u001b[0m\u001b[0;34m,\u001b[0m\u001b[0;34m\u001b[0m\u001b[0;34m\u001b[0m\u001b[0m\n",
            "\u001b[0;32m/usr/local/lib/python3.10/dist-packages/ipykernel/kernelbase.py\u001b[0m in \u001b[0;36m_input_request\u001b[0;34m(self, prompt, ident, parent, password)\u001b[0m\n\u001b[1;32m    893\u001b[0m             \u001b[0;32mexcept\u001b[0m \u001b[0mKeyboardInterrupt\u001b[0m\u001b[0;34m:\u001b[0m\u001b[0;34m\u001b[0m\u001b[0;34m\u001b[0m\u001b[0m\n\u001b[1;32m    894\u001b[0m                 \u001b[0;31m# re-raise KeyboardInterrupt, to truncate traceback\u001b[0m\u001b[0;34m\u001b[0m\u001b[0;34m\u001b[0m\u001b[0m\n\u001b[0;32m--> 895\u001b[0;31m                 \u001b[0;32mraise\u001b[0m \u001b[0mKeyboardInterrupt\u001b[0m\u001b[0;34m(\u001b[0m\u001b[0;34m\"Interrupted by user\"\u001b[0m\u001b[0;34m)\u001b[0m \u001b[0;32mfrom\u001b[0m \u001b[0;32mNone\u001b[0m\u001b[0;34m\u001b[0m\u001b[0;34m\u001b[0m\u001b[0m\n\u001b[0m\u001b[1;32m    896\u001b[0m             \u001b[0;32mexcept\u001b[0m \u001b[0mException\u001b[0m \u001b[0;32mas\u001b[0m \u001b[0me\u001b[0m\u001b[0;34m:\u001b[0m\u001b[0;34m\u001b[0m\u001b[0;34m\u001b[0m\u001b[0m\n\u001b[1;32m    897\u001b[0m                 \u001b[0mself\u001b[0m\u001b[0;34m.\u001b[0m\u001b[0mlog\u001b[0m\u001b[0;34m.\u001b[0m\u001b[0mwarning\u001b[0m\u001b[0;34m(\u001b[0m\u001b[0;34m\"Invalid Message:\"\u001b[0m\u001b[0;34m,\u001b[0m \u001b[0mexc_info\u001b[0m\u001b[0;34m=\u001b[0m\u001b[0;32mTrue\u001b[0m\u001b[0;34m)\u001b[0m\u001b[0;34m\u001b[0m\u001b[0;34m\u001b[0m\u001b[0m\n",
            "\u001b[0;31mKeyboardInterrupt\u001b[0m: Interrupted by user"
          ]
        }
      ]
    }
  ]
}
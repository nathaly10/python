{
  "nbformat": 4,
  "nbformat_minor": 0,
  "metadata": {
    "colab": {
      "provenance": [],
      "include_colab_link": true
    },
    "kernelspec": {
      "name": "python3",
      "display_name": "Python 3"
    },
    "language_info": {
      "name": "python"
    }
  },
  "cells": [
    {
      "cell_type": "markdown",
      "metadata": {
        "id": "view-in-github",
        "colab_type": "text"
      },
      "source": [
        "<a href=\"https://colab.research.google.com/github/nathaly10/python/blob/main/Introdu%C3%A7%C3%A3o_ao_Pyspark.ipynb\" target=\"_parent\"><img src=\"https://colab.research.google.com/assets/colab-badge.svg\" alt=\"Open In Colab\"/></a>"
      ]
    },
    {
      "cell_type": "code",
      "metadata": {
        "colab": {
          "base_uri": "https://localhost:8080/"
        },
        "id": "1imzqOyfp18C",
        "outputId": "d1e5004f-a06c-40e7-8fa6-0f9464689873"
      },
      "source": [
        "!pip install pyspark"
      ],
      "execution_count": null,
      "outputs": [
        {
          "output_type": "stream",
          "name": "stdout",
          "text": [
            "Collecting pyspark\n",
            "  Downloading pyspark-3.2.1.tar.gz (281.4 MB)\n",
            "\u001b[K     |████████████████████████████████| 281.4 MB 35 kB/s \n",
            "\u001b[?25hCollecting py4j==0.10.9.3\n",
            "  Downloading py4j-0.10.9.3-py2.py3-none-any.whl (198 kB)\n",
            "\u001b[K     |████████████████████████████████| 198 kB 31.8 MB/s \n",
            "\u001b[?25hBuilding wheels for collected packages: pyspark\n",
            "  Building wheel for pyspark (setup.py) ... \u001b[?25l\u001b[?25hdone\n",
            "  Created wheel for pyspark: filename=pyspark-3.2.1-py2.py3-none-any.whl size=281853642 sha256=4b78b5d4544e223cd9b339d9bad5bc64c9ba5e76685debbbb6398cb09e0baa9f\n",
            "  Stored in directory: /root/.cache/pip/wheels/9f/f5/07/7cd8017084dce4e93e84e92efd1e1d5334db05f2e83bcef74f\n",
            "Successfully built pyspark\n",
            "Installing collected packages: py4j, pyspark\n",
            "Successfully installed py4j-0.10.9.3 pyspark-3.2.1\n"
          ]
        }
      ]
    },
    {
      "cell_type": "code",
      "metadata": {
        "id": "bGjfZ2bt5Y4A"
      },
      "source": [
        "from pyspark.sql import SparkSession\n",
        "import pyspark.sql.functions as F"
      ],
      "execution_count": null,
      "outputs": []
    },
    {
      "cell_type": "code",
      "metadata": {
        "id": "ah7gR-xW6Vjv"
      },
      "source": [
        "#CONFIGURAR A NOSSA SPARKSESSION\n",
        "spark = (SparkSession.builder\n",
        "        .master(\"local\")\n",
        "        .appName(\"aprendendo-dataframes\")\n",
        "        .config(\"spark.ui.port\", \"4050\")\n",
        "        .getOrCreate())"
      ],
      "execution_count": null,
      "outputs": []
    },
    {
      "cell_type": "code",
      "metadata": {
        "colab": {
          "base_uri": "https://localhost:8080/",
          "height": 219
        },
        "id": "Io4hw9Ac7itj",
        "outputId": "e3eb86fb-d7ed-4831-d458-ed4411781d14"
      },
      "source": [
        "spark"
      ],
      "execution_count": null,
      "outputs": [
        {
          "output_type": "execute_result",
          "data": {
            "text/html": [
              "\n",
              "            <div>\n",
              "                <p><b>SparkSession - in-memory</b></p>\n",
              "                \n",
              "        <div>\n",
              "            <p><b>SparkContext</b></p>\n",
              "\n",
              "            <p><a href=\"http://83955fbb7c5f:4050\">Spark UI</a></p>\n",
              "\n",
              "            <dl>\n",
              "              <dt>Version</dt>\n",
              "                <dd><code>v3.2.1</code></dd>\n",
              "              <dt>Master</dt>\n",
              "                <dd><code>local</code></dd>\n",
              "              <dt>AppName</dt>\n",
              "                <dd><code>aprendendo-dataframes</code></dd>\n",
              "            </dl>\n",
              "        </div>\n",
              "        \n",
              "            </div>\n",
              "        "
            ],
            "text/plain": [
              "<pyspark.sql.session.SparkSession at 0x7fe4d24ef750>"
            ]
          },
          "metadata": {},
          "execution_count": 7
        }
      ]
    },
    {
      "cell_type": "code",
      "metadata": {
        "colab": {
          "base_uri": "https://localhost:8080/"
        },
        "id": "QHRblfIQ9-6T",
        "outputId": "50e0fad2-08e0-4086-b27a-8661e98bf1df"
      },
      "source": [
        "#CRIANDO DATAFRAMES NO PYSPARK\n",
        "dados = [\n",
        "         (\"João da Silva\", \"São Paulo\", \"SP\", 1100.00),\n",
        "         (\"Maria dos Santos\", \"São Paulo\", \"SP\", 2100.00),\n",
        "         (\"Carlos Victor\", \"Rio de Janeiro\", \"RJ\", 2100.00),\n",
        "         (\"Pedro José\", \"Maceió\", \"AL\", 3600.00)\n",
        "]\n",
        "esquema = [\"nome\", \"cidade\", \"estado\", \"salario\"]\n",
        "\n",
        "df = spark.createDataFrame(data=dados, schema=esquema)\n",
        "df.show(200)\n",
        "df.printSchema()"
      ],
      "execution_count": null,
      "outputs": [
        {
          "output_type": "stream",
          "name": "stdout",
          "text": [
            "+----+------+------+-------+\n",
            "|nome|cidade|estado|salario|\n",
            "+----+------+------+-------+\n",
            "+----+------+------+-------+\n",
            "only showing top 0 rows\n",
            "\n",
            "root\n",
            " |-- nome: string (nullable = true)\n",
            " |-- cidade: string (nullable = true)\n",
            " |-- estado: string (nullable = true)\n",
            " |-- salario: double (nullable = true)\n",
            "\n"
          ]
        }
      ]
    },
    {
      "cell_type": "code",
      "metadata": {
        "id": "YoIN41fhBTbc"
      },
      "source": [
        "#IMPORTANDO CSV NO PYSPARK\n",
        "df2 = (spark\n",
        "       .read\n",
        "       .format(\"csv\")\n",
        "       .option(\"header\", \"true\")\n",
        "       .option(\"inferschema\", \"true\")\n",
        "       .option(\"delimiter\", \";\")\n",
        "       .load(\"/content/drive/MyDrive/Datasets/arquivo_geral.csv\")\n",
        ")"
      ],
      "execution_count": null,
      "outputs": []
    },
    {
      "cell_type": "code",
      "metadata": {
        "colab": {
          "base_uri": "https://localhost:8080/"
        },
        "id": "6nsUr2PfEqIs",
        "outputId": "682b95f8-aad6-47a3-fbcc-8045ce44524b"
      },
      "source": [
        "df2.printSchema()\n",
        "df2.show(10)"
      ],
      "execution_count": null,
      "outputs": [
        {
          "output_type": "stream",
          "name": "stdout",
          "text": [
            "root\n",
            " |-- regiao: string (nullable = true)\n",
            " |-- estado: string (nullable = true)\n",
            " |-- data: string (nullable = true)\n",
            " |-- casosNovos: integer (nullable = true)\n",
            " |-- casosAcumulados: integer (nullable = true)\n",
            " |-- obitosNovos: integer (nullable = true)\n",
            " |-- obitosAcumulados: integer (nullable = true)\n",
            "\n",
            "+------+------+----------+----------+---------------+-----------+----------------+\n",
            "|regiao|estado|      data|casosNovos|casosAcumulados|obitosNovos|obitosAcumulados|\n",
            "+------+------+----------+----------+---------------+-----------+----------------+\n",
            "| Norte|    RO|2020-01-30|         0|              0|          0|               0|\n",
            "| Norte|    RO|2020-01-31|         0|              0|          0|               0|\n",
            "| Norte|    RO|2020-02-01|         0|              0|          0|               0|\n",
            "| Norte|    RO|2020-02-02|         0|              0|          0|               0|\n",
            "| Norte|    RO|2020-02-03|         0|              0|          0|               0|\n",
            "| Norte|    RO|2020-02-04|         0|              0|          0|               0|\n",
            "| Norte|    RO|2020-02-05|         0|              0|          0|               0|\n",
            "| Norte|    RO|2020-02-06|         0|              0|          0|               0|\n",
            "| Norte|    RO|2020-02-07|         0|              0|          0|               0|\n",
            "| Norte|    RO|2020-02-08|         0|              0|          0|               0|\n",
            "+------+------+----------+----------+---------------+-----------+----------------+\n",
            "only showing top 10 rows\n",
            "\n"
          ]
        }
      ]
    },
    {
      "cell_type": "code",
      "metadata": {
        "colab": {
          "base_uri": "https://localhost:8080/"
        },
        "id": "cH5Icel0FOlw",
        "outputId": "56bef067-1ee2-4733-ee9a-2fc9a49307c0"
      },
      "source": [
        "df2.printSchema()"
      ],
      "execution_count": null,
      "outputs": [
        {
          "output_type": "stream",
          "name": "stdout",
          "text": [
            "root\n",
            " |-- regiao: string (nullable = true)\n",
            " |-- estado: string (nullable = true)\n",
            " |-- data: string (nullable = true)\n",
            " |-- casosNovos: integer (nullable = true)\n",
            " |-- casosAcumulados: integer (nullable = true)\n",
            " |-- obitosNovos: integer (nullable = true)\n",
            " |-- obitosAcumulados: integer (nullable = true)\n",
            "\n"
          ]
        }
      ]
    },
    {
      "cell_type": "code",
      "source": [
        "df2.count()"
      ],
      "metadata": {
        "id": "jBPzw8tKk4oD",
        "outputId": "61cb5a0e-9722-45ea-980d-abb23e6078f5",
        "colab": {
          "base_uri": "https://localhost:8080/"
        }
      },
      "execution_count": null,
      "outputs": [
        {
          "output_type": "execute_result",
          "data": {
            "text/plain": [
              "2349"
            ]
          },
          "metadata": {},
          "execution_count": 10
        }
      ]
    },
    {
      "cell_type": "code",
      "metadata": {
        "id": "ORb8M8qGFVfi"
      },
      "source": [
        "#COMANDOS SELECT E FILTER\n",
        "#SELECT - 1ª FORMA DE UTILIZAÇÃO\n",
        "df2.select(\"regiao\", \"estado\", \"data\", \"casosNovos\").show(100)\n"
      ],
      "execution_count": null,
      "outputs": []
    },
    {
      "cell_type": "code",
      "metadata": {
        "id": "xiSJ_JaALvdO"
      },
      "source": [
        "#UTILIZANDO AS FUNCTIONS PARA TRABALHAR COM COLUNAS\n",
        "#SELECT - 2ª FORMA DE UTILIZAÇÃO\n",
        "df2.select(F.col(\"regiao\"), F.col(\"estado\"), F.col(\"data\"), F.col(\"casosNovos\")).show(20)"
      ],
      "execution_count": null,
      "outputs": []
    },
    {
      "cell_type": "code",
      "metadata": {
        "id": "kSYG6XzUM3pL"
      },
      "source": [
        "#EXIBIR A REGIÃO, ESTADO E CASOS NOVOS APENAS DA REGIÃO NORTE\n",
        "#df2.select(F.col(\"regiao\"), F.col(\"estado\"), F.col(\"casosNovos\")).filter(F.col(\"regiao\") == \"Sul\").show(50)\n",
        "\n",
        "df2.filter(F.col(\"estado\") == \"SP\").show(30)"
      ],
      "execution_count": null,
      "outputs": []
    },
    {
      "cell_type": "code",
      "metadata": {
        "colab": {
          "base_uri": "https://localhost:8080/"
        },
        "id": "BqrdOC2oONx0",
        "outputId": "8f65bada-dd07-45a1-e64a-6f98a6fb59d7"
      },
      "source": [
        "#2ª MANEIRA - EXIBIR A REGIÃO, ESTADO E CASOS NOVOS APENAS DA REGIÃO NORTE\n",
        "df2.select(F.col(\"regiao\"),\n",
        "           F.col(\"estado\"),\n",
        "           F.col(\"casosNovos\"))\\\n",
        ".filter(df2.regiao == \"Nordeste\")\\\n",
        ".show(10)"
      ],
      "execution_count": null,
      "outputs": [
        {
          "output_type": "stream",
          "name": "stdout",
          "text": [
            "+--------+------+----------+\n",
            "|  regiao|estado|casosNovos|\n",
            "+--------+------+----------+\n",
            "|Nordeste|    MA|         0|\n",
            "|Nordeste|    MA|         0|\n",
            "|Nordeste|    MA|         0|\n",
            "|Nordeste|    MA|         0|\n",
            "|Nordeste|    MA|         0|\n",
            "|Nordeste|    MA|         0|\n",
            "|Nordeste|    MA|         0|\n",
            "|Nordeste|    MA|         0|\n",
            "|Nordeste|    MA|         0|\n",
            "|Nordeste|    MA|         0|\n",
            "+--------+------+----------+\n",
            "only showing top 10 rows\n",
            "\n"
          ]
        }
      ]
    },
    {
      "cell_type": "code",
      "metadata": {
        "colab": {
          "base_uri": "https://localhost:8080/"
        },
        "id": "6y_lULv3QfEt",
        "outputId": "1dcd8feb-8892-432f-e31d-8807bd6438c3"
      },
      "source": [
        "#3ª MANEIRA - EXIBIR A REGIÃO, ESTADO E CASOS NOVOS APENAS DA REGIÃO NORTE\n",
        "df2.select(F.col(\"regiao\"),\n",
        "           F.col(\"estado\"),\n",
        "           F.col(\"casosNovos\"))\\\n",
        "           .filter(\"regiao = 'Sudeste'\")\\\n",
        "           .show(10)"
      ],
      "execution_count": null,
      "outputs": [
        {
          "output_type": "stream",
          "name": "stdout",
          "text": [
            "+-------+------+----------+\n",
            "| regiao|estado|casosNovos|\n",
            "+-------+------+----------+\n",
            "|Sudeste|    MG|         0|\n",
            "|Sudeste|    MG|         0|\n",
            "|Sudeste|    MG|         0|\n",
            "|Sudeste|    MG|         0|\n",
            "|Sudeste|    MG|         0|\n",
            "|Sudeste|    MG|         0|\n",
            "|Sudeste|    MG|         0|\n",
            "|Sudeste|    MG|         0|\n",
            "|Sudeste|    MG|         0|\n",
            "|Sudeste|    MG|         0|\n",
            "+-------+------+----------+\n",
            "only showing top 10 rows\n",
            "\n"
          ]
        }
      ]
    },
    {
      "cell_type": "code",
      "metadata": {
        "colab": {
          "base_uri": "https://localhost:8080/"
        },
        "id": "0MChHkVQWk63",
        "outputId": "7607bf42-282d-4f36-8153-6e31df557148"
      },
      "source": [
        "#4ª MANEIRA - EXIBIR A REGIÃO, ESTADO E CASOS NOVOS APENAS DA REGIÃO NORTE\n",
        "filtro = F.col(\"regiao\") == \"Sul\"\n",
        "df2.select(F.col(\"regiao\"), F.col(\"estado\"), F.col(\"casosNovos\")).filter(filtro).show(10)"
      ],
      "execution_count": null,
      "outputs": [
        {
          "output_type": "stream",
          "name": "stdout",
          "text": [
            "+------+------+----------+\n",
            "|regiao|estado|casosNovos|\n",
            "+------+------+----------+\n",
            "|   Sul|    PR|         0|\n",
            "|   Sul|    PR|         0|\n",
            "|   Sul|    PR|         0|\n",
            "|   Sul|    PR|         0|\n",
            "|   Sul|    PR|         0|\n",
            "|   Sul|    PR|         0|\n",
            "|   Sul|    PR|         0|\n",
            "|   Sul|    PR|         0|\n",
            "|   Sul|    PR|         0|\n",
            "|   Sul|    PR|         0|\n",
            "+------+------+----------+\n",
            "only showing top 10 rows\n",
            "\n"
          ]
        }
      ]
    },
    {
      "cell_type": "code",
      "metadata": {
        "colab": {
          "base_uri": "https://localhost:8080/"
        },
        "id": "Poaa7nBCXAFs",
        "outputId": "22daa9eb-069b-4ef5-a46a-a1b94fbc094e"
      },
      "source": [
        "#CRIANDO UMA LISTA DINÂMICA COM VÁRIAS COLUNAS PARA SE UTILIZAR DENTRO DO COMANDO SELECT\n",
        "lista_colunas = [\"regiao\", \"estado\", \"casosNovos\", \"obitosNovos\", \"obitosAcumulados\"]\n",
        "df2.select(lista_colunas).show(20)"
      ],
      "execution_count": null,
      "outputs": [
        {
          "output_type": "stream",
          "name": "stdout",
          "text": [
            "+------+------+----------+-----------+----------------+\n",
            "|regiao|estado|casosNovos|obitosNovos|obitosAcumulados|\n",
            "+------+------+----------+-----------+----------------+\n",
            "| Norte|    RO|         0|          0|               0|\n",
            "| Norte|    RO|         0|          0|               0|\n",
            "| Norte|    RO|         0|          0|               0|\n",
            "| Norte|    RO|         0|          0|               0|\n",
            "| Norte|    RO|         0|          0|               0|\n",
            "| Norte|    RO|         0|          0|               0|\n",
            "| Norte|    RO|         0|          0|               0|\n",
            "| Norte|    RO|         0|          0|               0|\n",
            "| Norte|    RO|         0|          0|               0|\n",
            "| Norte|    RO|         0|          0|               0|\n",
            "| Norte|    RO|         0|          0|               0|\n",
            "| Norte|    RO|         0|          0|               0|\n",
            "| Norte|    RO|         0|          0|               0|\n",
            "| Norte|    RO|         0|          0|               0|\n",
            "| Norte|    RO|         0|          0|               0|\n",
            "| Norte|    RO|         0|          0|               0|\n",
            "| Norte|    RO|         0|          0|               0|\n",
            "| Norte|    RO|         0|          0|               0|\n",
            "| Norte|    RO|         0|          0|               0|\n",
            "| Norte|    RO|         0|          0|               0|\n",
            "+------+------+----------+-----------+----------------+\n",
            "only showing top 20 rows\n",
            "\n",
            "root\n",
            " |-- regiao: string (nullable = true)\n",
            " |-- estado: string (nullable = true)\n",
            " |-- data: string (nullable = true)\n",
            " |-- casosNovos: integer (nullable = true)\n",
            " |-- casosAcumulados: integer (nullable = true)\n",
            " |-- obitosNovos: integer (nullable = true)\n",
            " |-- obitosAcumulados: integer (nullable = true)\n",
            "\n"
          ]
        }
      ]
    },
    {
      "cell_type": "code",
      "metadata": {
        "id": "bPX_JgNUXmJp"
      },
      "source": [
        "#APLICAR MAIS DE UM FILTRO DENTRO DO DATAFRAME\n",
        "#FAZER FILTRAGEM PELA REGIÃO NORTE E ESTADO DO AMAZONAS\n",
        "df2.select(F.col(\"regiao\"), F.col(\"estado\"))\\\n",
        "                .filter(F.col(\"regiao\") == \"Norte\")\\\n",
        "                .filter(F.col(\"estado\") == \"AM\")\\\n",
        "                .show(100)"
      ],
      "execution_count": null,
      "outputs": []
    },
    {
      "cell_type": "code",
      "metadata": {
        "id": "sJuzt5uMYxwQ"
      },
      "source": [
        "df2.filter(F.col(\"regiao\") == \"Norte\").filter(F.col(\"estado\") == \"AM\").show(20)"
      ],
      "execution_count": null,
      "outputs": []
    },
    {
      "cell_type": "code",
      "metadata": {
        "id": "AFJDky8fZi2U",
        "colab": {
          "base_uri": "https://localhost:8080/"
        },
        "outputId": "ac0637b8-0958-49f0-b9df-a81ba009e486"
      },
      "source": [
        "#SEGUNDA MANEIRA DE SE UTILIZAR O FILTER MAIS DE UMA VEZ\n",
        "df2.filter(\"regiao = 'Norte' and estado = 'AM'\").show(10)\n",
        "df2.filter(\"regiao = 'Norte' or estado = 'AM'\").show(10)"
      ],
      "execution_count": null,
      "outputs": [
        {
          "output_type": "stream",
          "name": "stdout",
          "text": [
            "+------+------+----------+----------+---------------+-----------+----------------+\n",
            "|regiao|estado|      data|casosNovos|casosAcumulados|obitosNovos|obitosAcumulados|\n",
            "+------+------+----------+----------+---------------+-----------+----------------+\n",
            "| Norte|    AM|2020-01-30|         0|              0|          0|               0|\n",
            "| Norte|    AM|2020-01-31|         0|              0|          0|               0|\n",
            "| Norte|    AM|2020-02-01|         0|              0|          0|               0|\n",
            "| Norte|    AM|2020-02-02|         0|              0|          0|               0|\n",
            "| Norte|    AM|2020-02-03|         0|              0|          0|               0|\n",
            "| Norte|    AM|2020-02-04|         0|              0|          0|               0|\n",
            "| Norte|    AM|2020-02-05|         0|              0|          0|               0|\n",
            "| Norte|    AM|2020-02-06|         0|              0|          0|               0|\n",
            "| Norte|    AM|2020-02-07|         0|              0|          0|               0|\n",
            "| Norte|    AM|2020-02-08|         0|              0|          0|               0|\n",
            "+------+------+----------+----------+---------------+-----------+----------------+\n",
            "only showing top 10 rows\n",
            "\n",
            "+------+------+----------+----------+---------------+-----------+----------------+\n",
            "|regiao|estado|      data|casosNovos|casosAcumulados|obitosNovos|obitosAcumulados|\n",
            "+------+------+----------+----------+---------------+-----------+----------------+\n",
            "| Norte|    RO|2020-01-30|         0|              0|          0|               0|\n",
            "| Norte|    RO|2020-01-31|         0|              0|          0|               0|\n",
            "| Norte|    RO|2020-02-01|         0|              0|          0|               0|\n",
            "| Norte|    RO|2020-02-02|         0|              0|          0|               0|\n",
            "| Norte|    RO|2020-02-03|         0|              0|          0|               0|\n",
            "| Norte|    RO|2020-02-04|         0|              0|          0|               0|\n",
            "| Norte|    RO|2020-02-05|         0|              0|          0|               0|\n",
            "| Norte|    RO|2020-02-06|         0|              0|          0|               0|\n",
            "| Norte|    RO|2020-02-07|         0|              0|          0|               0|\n",
            "| Norte|    RO|2020-02-08|         0|              0|          0|               0|\n",
            "+------+------+----------+----------+---------------+-----------+----------------+\n",
            "only showing top 10 rows\n",
            "\n"
          ]
        }
      ]
    },
    {
      "cell_type": "code",
      "metadata": {
        "id": "eNUAmVBa_CpV"
      },
      "source": [
        "#TERCEIRA MANEIRA DE SE UTILIZAR O FILTER MAIS DE UMA VEZ\n",
        "df2.filter((F.col(\"regiao\") == 'Norte') & (F.col(\"estado\") == 'AM')).show(10)\n",
        "df2.filter((F.col(\"regiao\") == 'Norte') | (F.col(\"estado\") == 'AM')).show(10)"
      ],
      "execution_count": null,
      "outputs": []
    },
    {
      "cell_type": "code",
      "metadata": {
        "colab": {
          "base_uri": "https://localhost:8080/"
        },
        "id": "wRA46iAO_mA3",
        "outputId": "4ac109a7-df27-4b89-a72e-f3640b3b702a"
      },
      "source": [
        "#QUINTA FORMA: APLICANDO O FILTER VÁRIAS VEZES\n",
        "df2.where((F.col(\"regiao\") == 'Sul') & (F.col(\"estado\") == 'RS')).show(10)"
      ],
      "execution_count": null,
      "outputs": [
        {
          "output_type": "stream",
          "name": "stdout",
          "text": [
            "+------+------+----------+----------+---------------+-----------+----------------+\n",
            "|regiao|estado|      data|casosNovos|casosAcumulados|obitosNovos|obitosAcumulados|\n",
            "+------+------+----------+----------+---------------+-----------+----------------+\n",
            "|   Sul|    RS|2020-01-30|         0|              0|          0|               0|\n",
            "|   Sul|    RS|2020-01-31|         0|              0|          0|               0|\n",
            "|   Sul|    RS|2020-02-01|         0|              0|          0|               0|\n",
            "|   Sul|    RS|2020-02-02|         0|              0|          0|               0|\n",
            "|   Sul|    RS|2020-02-03|         0|              0|          0|               0|\n",
            "|   Sul|    RS|2020-02-04|         0|              0|          0|               0|\n",
            "|   Sul|    RS|2020-02-05|         0|              0|          0|               0|\n",
            "|   Sul|    RS|2020-02-06|         0|              0|          0|               0|\n",
            "|   Sul|    RS|2020-02-07|         0|              0|          0|               0|\n",
            "|   Sul|    RS|2020-02-08|         0|              0|          0|               0|\n",
            "+------+------+----------+----------+---------------+-----------+----------------+\n",
            "only showing top 10 rows\n",
            "\n"
          ]
        }
      ]
    },
    {
      "cell_type": "code",
      "metadata": {
        "id": "Fe1v0cJuAVr0"
      },
      "source": [
        "#UTILIZANDO O LIKE PARA CONSULTAR SUBSTRINGS ESPECÍFICAS DENTRO DE UMA COLUNA\n",
        "df2.where((F.col(\"regiao\") == 'Norte')).filter(\"estado like '%A%'\").show(1000)"
      ],
      "execution_count": null,
      "outputs": []
    },
    {
      "cell_type": "code",
      "metadata": {
        "id": "2Z7OLsKfB7Tu"
      },
      "source": [
        "df2.filter(\"regiao like 'S%'\").show(1000)"
      ],
      "execution_count": null,
      "outputs": []
    },
    {
      "cell_type": "code",
      "metadata": {
        "id": "nQfQiPboDIZG"
      },
      "source": [
        "#OUTRA FORMA DE UTILIZAR O FILTRO COM MAIS DE UMA CONDIÇÃO\n",
        "df2.filter(\"regiao in ('Norte', 'Sul')\").show(1000)"
      ],
      "execution_count": null,
      "outputs": []
    },
    {
      "cell_type": "code",
      "metadata": {
        "id": "r4oR0W5nDn5x"
      },
      "source": [
        "#OUTRA FORMA DE UTILIZAR O FILTRO COM UMA LISTA DE REGIÕES\n",
        "lista_regiao = ['Norte', 'Sul']\n",
        "df2.filter(F.col(\"regiao\").isin(lista_regiao)).show(1000)"
      ],
      "execution_count": null,
      "outputs": []
    },
    {
      "cell_type": "code",
      "metadata": {
        "id": "EgCIrdOqD7t8"
      },
      "source": [
        "#UTILIZANDO O FILTRO DE UMA FORMA PARECIDA COM O LIKE, MAS COM UMA FUNÇÃO ESPECÍFICA\n",
        "df2.filter(F.col(\"regiao\").startswith(\"Sul\")).show(100)"
      ],
      "execution_count": null,
      "outputs": []
    },
    {
      "cell_type": "code",
      "metadata": {
        "id": "2d5QS0xNEQ_W"
      },
      "source": [
        "#UTILIZANDO O LIKE COMO UMA FUNÇÃO\n",
        "df2.filter(F.col(\"regiao\").like(\"C%\")).show(100)"
      ],
      "execution_count": null,
      "outputs": []
    },
    {
      "cell_type": "code",
      "metadata": {
        "id": "fqOe0i7WEjuF"
      },
      "source": [],
      "execution_count": null,
      "outputs": []
    }
  ]
}